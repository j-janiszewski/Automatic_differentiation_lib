{
 "cells": [
  {
   "cell_type": "code",
   "execution_count": 1,
   "metadata": {},
   "outputs": [
    {
     "data": {
      "text/plain": [
       "backward (generic function with 14 methods)"
      ]
     },
     "metadata": {},
     "output_type": "display_data"
    }
   ],
   "source": [
    "using DrWatson\n",
    "@quickactivate \"ad_lib\"\n",
    "using MLDatasets: MNIST\n",
    "using Printf\n",
    "using Statistics\n",
    "import Base: -\n",
    "include(srcdir(\"operators.jl\"))\n"
   ]
  },
  {
   "cell_type": "code",
   "execution_count": 2,
   "metadata": {},
   "outputs": [
    {
     "data": {
      "text/plain": [
       "update_var! (generic function with 1 method)"
      ]
     },
     "metadata": {},
     "output_type": "display_data"
    }
   ],
   "source": [
    "function dense(w, b, x, activation)\n",
    "    return activation(w * x .+ b)\n",
    "end\n",
    "\n",
    "function dense(w, x, activation)\n",
    "    return activation(w * x)\n",
    "end\n",
    "\n",
    "function dense(w, x)\n",
    "    return w * x\n",
    "end\n",
    "\n",
    "function crossentropy(y, actual_class)\n",
    "    select(.-log.(y), actual_class)\n",
    "end\n",
    "\n",
    "function relu(x)\n",
    "    max.(x, Constant(0))\n",
    "end\n",
    "\n",
    "-(x::Vector, y::Matrix) = vec(x .- y)\n",
    "\n",
    "function update_var!(x::Variable, alpha)\n",
    "    x.output = x.output - (x.gradient * alpha)\n",
    "end"
   ]
  },
  {
   "cell_type": "code",
   "execution_count": 3,
   "metadata": {},
   "outputs": [
    {
     "data": {
      "text/plain": [
       "60000"
      ]
     },
     "metadata": {},
     "output_type": "display_data"
    }
   ],
   "source": [
    "NUM_OF_CLASSES = 10\n",
    "LEARNING_RATE = 0.001\n",
    "EPOCHS = 3\n",
    "\n",
    "\n",
    "# variables that will be modified\n",
    "b = Variable(rand(Float64, NUM_OF_CLASSES), name=\"dense_layer_bias\")\n",
    "w = Variable(rand(Float64, (NUM_OF_CLASSES, 12 * 12)) ./ 10, name=\"dense_layer_weights\")\n",
    "w_conv = Variable(rand(Float64, 1, 9), name=\"convolution_weights\")\n",
    "w_conv2 = Variable(rand(Float64, 1, 9), name=\"convolution2_weights\")\n",
    "train_dataset = MNIST(:train)\n",
    "N = size(train_dataset.features)[3]"
   ]
  },
  {
   "cell_type": "code",
   "execution_count": 4,
   "metadata": {},
   "outputs": [
    {
     "data": {
      "text/plain": [
       "19-element Vector{Any}:\n",
       " var dense_layer_weights\n",
       " ┣━ ^ 10×144 Matrix{Float64}\n",
       " ┗━ ∇ Nothing\n",
       " var img\n",
       " ┣━ ^ 28×28 Matrix{Float64}\n",
       " ┗━ ∇ Nothing\n",
       " var convolution_weights\n",
       " ┣━ ^ 1×9 Matrix{Float64}\n",
       " ┗━ ∇ Nothing\n",
       " const 3\n",
       " const 1\n",
       " op.?(typeof(conv))\n",
       " var convolution2_weights\n",
       " ┣━ ^ 1×9 Matrix{Float64}\n",
       " ┗━ ∇ Nothing\n",
       " op.?(typeof(conv))\n",
       " const 2\n",
       " op.?(typeof(maxpool))\n",
       " op.?(typeof(flatten))\n",
       " op.?(typeof(mul!))\n",
       " var dense_layer_bias\n",
       " ┣━ ^ 10-element Vector{Float64}\n",
       " ┗━ ∇ Nothing\n",
       " op.?(typeof(+))\n",
       " op.?(typeof(softmax))\n",
       " op.?(typeof(log))\n",
       " op.?(typeof(-))\n",
       " var actual_class\n",
       " ┣━ ^ Int64\n",
       " ┗━ ∇ Nothing\n",
       " op.?(typeof(select))"
      ]
     },
     "metadata": {},
     "output_type": "display_data"
    }
   ],
   "source": [
    "# Variables that will me modified on each run\n",
    "img = Variable(Float64.(train_dataset[1].features), name=\"img\")\n",
    "actual_class = Variable(train_dataset[1].targets + 1, name=\"actual_class\")\n",
    "# Layers\n",
    "conv_layer = conv(img, w_conv, Constant(3), Constant(3),Constant(1))\n",
    "conv_layer2 = conv(conv_layer, w_conv2, Constant(3), Constant(3),Constant(1))\n",
    "max_pool_layer = maxpool(conv_layer2, Constant(2))\n",
    "flatten_layer = flatten(max_pool_layer)\n",
    "fc_layer = dense(w, b, flatten_layer, softmax)\n",
    "loss = crossentropy(fc_layer, actual_class)\n",
    "net = topological_sort(loss)"
   ]
  },
  {
   "attachments": {},
   "cell_type": "markdown",
   "metadata": {},
   "source": [
    "# Training network"
   ]
  },
  {
   "cell_type": "code",
   "execution_count": 5,
   "metadata": {},
   "outputs": [
    {
     "name": "stdout",
     "output_type": "stream",
     "text": [
      "Avarage loss during epoch #1 run : 0.567660 \n"
     ]
    },
    {
     "name": "stdout",
     "output_type": "stream",
     "text": [
      "Avarage loss during epoch #2 run : 0.497036 \n"
     ]
    },
    {
     "name": "stdout",
     "output_type": "stream",
     "text": [
      "Avarage loss during epoch #3 run : 0.466534 \n"
     ]
    }
   ],
   "source": [
    "losses = zeros(N)\n",
    "for j = 1:EPOCHS\n",
    "    for i = 1:N\n",
    "        img.output = Float64.(train_dataset[i].features)\n",
    "        actual_class.output = train_dataset[i].targets + 1\n",
    "        loss_value = forward!(net)\n",
    "        losses[i] = loss_value\n",
    "        backward!(net)\n",
    "        update_var!(b, LEARNING_RATE)\n",
    "        update_var!(w, LEARNING_RATE)\n",
    "        update_var!(w_conv2, LEARNING_RATE)\n",
    "        update_var!(w_conv, LEARNING_RATE)\n",
    "    end\n",
    "    @printf(\"Avarage loss during epoch #%d run : %f \\n\", j, mean(losses))\n",
    "end"
   ]
  },
  {
   "attachments": {},
   "cell_type": "markdown",
   "metadata": {},
   "source": [
    "# Testing network"
   ]
  },
  {
   "cell_type": "code",
   "execution_count": 7,
   "metadata": {},
   "outputs": [
    {
     "name": "stdout",
     "output_type": "stream",
     "text": [
      "Testing network...\n"
     ]
    },
    {
     "name": "stdout",
     "output_type": "stream",
     "text": [
      "Network accuracy:  0.873600 \n"
     ]
    }
   ],
   "source": [
    "test_dataset = MNIST(:test)\n",
    "N = size(test_dataset.features)[3]\n",
    "net = topological_sort(fc_layer)\n",
    "\n",
    "@printf(\"Testing network...\\n\")\n",
    "let count = 0\n",
    "    for i = 1:N\n",
    "        img.output = Float64.(test_dataset[i].features)\n",
    "        y = forward!(net)\n",
    "        if argmax(y) == (test_dataset[i].targets + 1)\n",
    "            count += 1\n",
    "        end\n",
    "    end\n",
    "\n",
    "    @printf(\"Network accuracy:  %f \\n\", count / N)\n",
    "end"
   ]
  }
 ],
 "metadata": {
  "kernelspec": {
   "display_name": "Julia 1.8.5",
   "language": "julia",
   "name": "julia-1.8"
  },
  "language_info": {
   "file_extension": ".jl",
   "mimetype": "application/julia",
   "name": "julia",
   "version": "1.8.5"
  },
  "orig_nbformat": 4
 },
 "nbformat": 4,
 "nbformat_minor": 2
}
